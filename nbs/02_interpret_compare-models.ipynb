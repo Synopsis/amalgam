{
 "cells": [
  {
   "cell_type": "code",
   "execution_count": null,
   "metadata": {},
   "outputs": [],
   "source": [
    "#default_exp interpret.compare"
   ]
  },
  {
   "cell_type": "markdown",
   "metadata": {},
   "source": [
    "# Compare Models"
   ]
  },
  {
   "cell_type": "markdown",
   "metadata": {},
   "source": [
    "> This module offers functions to compare two or more models' predictions. More specifically, you can easily extract the filenames of the images that all your models agree on.\n",
    "\n",
    "<br>\n",
    "<br>"
   ]
  },
  {
   "cell_type": "code",
   "execution_count": null,
   "metadata": {},
   "outputs": [],
   "source": [
    "#export\n",
    "from fastai2.vision.all import *\n",
    "from fastai2_extensions.interpret import *"
   ]
  },
  {
   "cell_type": "code",
   "execution_count": null,
   "metadata": {},
   "outputs": [
    {
     "name": "stderr",
     "output_type": "stream",
     "text": [
      "/Users/rahulsomani/anaconda3/lib/python3.7/site-packages/torch/serialization.py:657: SourceChangeWarning: source code of class 'torch.nn.modules.linear.Linear' has changed. you can retrieve the original source code by accessing the object's source attribute or set `torch.nn.Module.dump_patches = True` and use the patch tool to revert the changes.\n",
      "  warnings.warn(msg, SourceChangeWarning)\n",
      "/Users/rahulsomani/anaconda3/lib/python3.7/site-packages/torch/serialization.py:657: SourceChangeWarning: source code of class 'torch.nn.modules.activation.ReLU' has changed. you can retrieve the original source code by accessing the object's source attribute or set `torch.nn.Module.dump_patches = True` and use the patch tool to revert the changes.\n",
      "  warnings.warn(msg, SourceChangeWarning)\n",
      "/Users/rahulsomani/anaconda3/lib/python3.7/site-packages/torch/serialization.py:657: SourceChangeWarning: source code of class 'torch.nn.modules.conv.Conv2d' has changed. you can retrieve the original source code by accessing the object's source attribute or set `torch.nn.Module.dump_patches = True` and use the patch tool to revert the changes.\n",
      "  warnings.warn(msg, SourceChangeWarning)\n"
     ]
    }
   ],
   "source": [
    "#hide\n",
    "from torchvision.models import mobilenet_v2\n",
    "\n",
    "path_data = Path('/Users/rahulsomani/Desktop/shot-lighting-cast')\n",
    "\n",
    "dls1 = ImageDataLoaders.from_folder(path_data/'train', valid_pct=0.2, seed=42,\n",
    "                                    item_tfms = Resize(size=224, method=ResizeMethod.Squish))\n",
    "dls2 = ImageDataLoaders.from_folder(path_data/'train', valid_pct=0.15, seed=42,\n",
    "                                    item_tfms = Resize(size=224, method=ResizeMethod.Squish))\n",
    "dls3 = ImageDataLoaders.from_folder(path_data/'train', valid_pct=0.10, seed=42,\n",
    "                                    item_tfms = Resize(size=224, method=ResizeMethod.Squish))\n",
    "\n",
    "\n",
    "\n",
    "class ApplyPILFilter(RandTransform):pass\n",
    "learn1 = load_learner(path_data/'fastai2-110-epoch-model.pkl');\n",
    "learn1.dls = dls1\n",
    "\n",
    "learn2 = load_learner(path_data/'fastai2-110-epoch-model.pkl');\n",
    "learn2.dls = dls2\n",
    "\n",
    "learn3 = load_learner(path_data/'fastai2-110-epoch-model.pkl');\n",
    "learn3.dls = dls3\n"
   ]
  },
  {
   "cell_type": "code",
   "execution_count": null,
   "metadata": {},
   "outputs": [],
   "source": [
    "#export\n",
    "def intersection(sets:Collection):\n",
    "    '`set.intersection` for a list of sets of any size'\n",
    "    if len(sets) == 1: return sets\n",
    "    res = sets[0]\n",
    "    for x in sets[1:]: res=res.intersection(x)\n",
    "    return res"
   ]
  },
  {
   "cell_type": "code",
   "execution_count": null,
   "metadata": {},
   "outputs": [
    {
     "data": {
      "text/plain": [
       "{'c'}"
      ]
     },
     "execution_count": null,
     "metadata": {},
     "output_type": "execute_result"
    }
   ],
   "source": [
    "sets = [set(('a','b','c','e')), set(('a','b','c','d')), set(('c','d','e'))]\n",
    "intersection(sets)"
   ]
  },
  {
   "cell_type": "code",
   "execution_count": null,
   "metadata": {},
   "outputs": [],
   "source": [
    "#export\n",
    "from matplotlib_venn import venn2, venn3\n",
    "\n",
    "def compare_venn(interps:Collection,\n",
    "                 conf_level:Union[int,float,tuple],\n",
    "                 title=None, mode=('accurate','inaccurate'),\n",
    "                 return_fig=False, return_common=True,\n",
    "                 figsize=(10,6), set_color='tomato'):\n",
    "    \"\"\"\n",
    "    Compute the agreement between 2 or more models' predictions\n",
    "     \n",
    "    If you only input 2-3 models in `interps`, then you also get\n",
    "    a venn diagram to visualise the agreement between these models\n",
    "    \n",
    "    Key Arguments\n",
    "    =============\n",
    "    * interps:    a list or tuple of `ClassificationInterpretationEx` objects\n",
    "    * mode:       either 'accurate' or 'inaccurate' to filter predictions\n",
    "    * conf_level: a single number or a tuple of (min,max) to filter the prediction confidence\n",
    "    \"\"\"\n",
    "    assert len(interps) > 1, 'Enter 2 or more models to compare'\n",
    "    ### Extract fnames per model per label\n",
    "    fnames_dict = defaultdict()\n",
    "    for i,interp in enumerate(interps):\n",
    "        name = f\"interp{i+1}\"\n",
    "        fnames_dict[name] = {}.fromkeys(interp.dl.vocab)\n",
    "        for label in fnames_dict[name].keys():\n",
    "            fnames_dict[name][label] = interp.get_fnames(label, mode, conf_level)\n",
    "    \n",
    "    if len(interps) <= 3:\n",
    "        ### Prepare sets of filenames per label for venn diagrams\n",
    "        sets_dict = defaultdict(list)\n",
    "        for interp in fnames_dict.values():\n",
    "            for label,fnames in interp.items():\n",
    "                sets_dict[label].append(set(fnames))\n",
    "\n",
    "        ### Plot venn diagrams\n",
    "        fig, axes = plt.subplots(nrows=1, ncols=interps[0].dl.c, figsize=figsize)\n",
    "        for i,(label,sets) in enumerate(sets_dict.items()):\n",
    "            set_labels = [f\"Model {j+1}\" for j in range(len(interps))]\n",
    "            set_colors = [set_color] * len(interps)\n",
    "            axes[i].set_title(label)\n",
    "            if len(interps) == 2:\n",
    "                venn2(sets, set_labels=set_labels, ax=axes[i], set_colors=set_colors)\n",
    "            if len(interps) == 3:\n",
    "                venn3(sets, set_labels=set_labels, ax=axes[i], set_colors=set_colors)\n",
    "\n",
    "        ## Plot titles and subtitles\n",
    "        if title is not None: fig.suptitle(title) \n",
    "        else:\n",
    "            if isinstance(conf_level, tuple): filler = f'Between {conf_level[0]}-{conf_level[1]}'\n",
    "            else:\n",
    "                if mode == 'accurate': filler = f'Above {conf_level}'\n",
    "                else:                  filler = f'Below {conf_level}'\n",
    "            if mode == 'accurate':   fig.suptitle(f'Model Agreement - {mode.capitalize()} {filler} % Confidence')\n",
    "            if mode == 'inaccurate': fig.suptitle(f'Model Agreement - {mode.capitalize()} {filler} % Confidence')\n",
    "        plt.subplots_adjust(top = 1.1, bottom=0.01, hspace=0.25, wspace=0.1)\n",
    "    else:\n",
    "        fig=None\n",
    "    \n",
    "    if return_common:\n",
    "        res_set = {label:intersection(sets_dict[label]) for label in interps[0].dl.vocab}\n",
    "\n",
    "    if return_fig    and     return_common: return (fig, res_set)\n",
    "    if return_fig    and not return_common: return fig\n",
    "    if return_common and not return_fig:    return res_set"
   ]
  },
  {
   "cell_type": "code",
   "execution_count": null,
   "metadata": {},
   "outputs": [
    {
     "data": {
      "text/html": [],
      "text/plain": [
       "<IPython.core.display.HTML object>"
      ]
     },
     "metadata": {},
     "output_type": "display_data"
    },
    {
     "data": {
      "text/html": [],
      "text/plain": [
       "<IPython.core.display.HTML object>"
      ]
     },
     "metadata": {},
     "output_type": "display_data"
    },
    {
     "data": {
      "text/html": [],
      "text/plain": [
       "<IPython.core.display.HTML object>"
      ]
     },
     "metadata": {},
     "output_type": "display_data"
    }
   ],
   "source": [
    "interp1 = ClassificationInterpretationEx.from_learner(learn1)\n",
    "interp2 = ClassificationInterpretationEx.from_learner(learn2)\n",
    "interp3 = ClassificationInterpretationEx.from_learner(learn3)\n",
    "interp1.compute_label_confidence()\n",
    "interp2.compute_label_confidence()\n",
    "interp3.compute_label_confidence()"
   ]
  },
  {
   "cell_type": "code",
   "execution_count": null,
   "metadata": {},
   "outputs": [],
   "source": [
    "%%capture\n",
    "fig,common_labels = compare_venn(\n",
    "    conf_level=(0,99),  interps=[interp1,interp2],\n",
    "    mode='accurate',\n",
    "    return_common=True, return_fig=True,\n",
    "    set_color='tomato'\n",
    ")"
   ]
  },
  {
   "cell_type": "code",
   "execution_count": null,
   "metadata": {},
   "outputs": [
    {
     "data": {
      "image/png": "[encoded data removed]",
      "text/plain": [
       "<Figure size 720x432 with 2 Axes>"
      ]
     },
     "execution_count": null,
     "metadata": {},
     "output_type": "execute_result"
    }
   ],
   "source": [
    "fig"
   ]
  },
  {
   "cell_type": "code",
   "execution_count": null,
   "metadata": {},
   "outputs": [
    {
     "data": {
      "text/plain": [
       "dict_keys(['shot_lighting_cast_hard', 'shot_lighting_cast_soft'])"
      ]
     },
     "execution_count": null,
     "metadata": {},
     "output_type": "execute_result"
    }
   ],
   "source": [
    "common_labels.keys()"
   ]
  },
  {
   "cell_type": "code",
   "execution_count": null,
   "metadata": {},
   "outputs": [
    {
     "name": "stdout",
     "output_type": "stream",
     "text": [
      "23\n",
      "185\n"
     ]
    }
   ],
   "source": [
    "print(len(common_labels['shot_lighting_cast_hard']))\n",
    "print(len(common_labels['shot_lighting_cast_soft']))"
   ]
  },
  {
   "cell_type": "code",
   "execution_count": null,
   "metadata": {},
   "outputs": [
    {
     "name": "stdout",
     "output_type": "stream",
     "text": [
      "Converted 00_core.ipynb.\n",
      "Converted 01-classification-interpretation.ipynb.\n",
      "Converted 02-compare-models.ipynb.\n",
      "Converted index.ipynb.\n"
     ]
    }
   ],
   "source": [
    "#hide\n",
    "from nbdev.export import notebook2script\n",
    "notebook2script()"
   ]
  }
 ],
 "metadata": {
  "kernelspec": {
   "display_name": "Python 3",
   "language": "python",
   "name": "python3"
  }
 },
 "nbformat": 4,
 "nbformat_minor": 4
}
